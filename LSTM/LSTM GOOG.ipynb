{
 "cells": [
  {
   "cell_type": "markdown",
   "metadata": {},
   "source": [
    "# Predicting Stock Prices with continuous input using Long Short Term Memory Networks"
   ]
  },
  {
   "cell_type": "markdown",
   "metadata": {},
   "source": [
    "## Part 1  - Data Preprocessing\n"
   ]
  },
  {
   "cell_type": "markdown",
   "metadata": {},
   "source": [
    "---"
   ]
  },
  {
   "cell_type": "markdown",
   "metadata": {},
   "source": [
    "### Importing libraries"
   ]
  },
  {
   "cell_type": "code",
   "execution_count": 30,
   "metadata": {},
   "outputs": [],
   "source": [
    "import time\n",
    "import math\n",
    "from keras.models import Sequential\n",
    "from keras.layers.core import Dense, Dropout, Activation\n",
    "from keras.layers.recurrent import LSTM\n",
    "import numpy as np\n",
    "import pandas as pd\n",
    "import sklearn.preprocessing as prep\n",
    "import matplotlib.pyplot as plt\n",
    "%matplotlib inline"
   ]
  },
  {
   "cell_type": "markdown",
   "metadata": {},
   "source": [
    "### Importing training set"
   ]
  },
  {
   "cell_type": "code",
   "execution_count": 31,
   "metadata": {},
   "outputs": [],
   "source": [
    "training_set = pd.read_csv('Google_Stock_Price_Train.csv')"
   ]
  },
  {
   "cell_type": "code",
   "execution_count": 32,
   "metadata": {},
   "outputs": [
    {
     "data": {
      "text/html": [
       "<div>\n",
       "<style scoped>\n",
       "    .dataframe tbody tr th:only-of-type {\n",
       "        vertical-align: middle;\n",
       "    }\n",
       "\n",
       "    .dataframe tbody tr th {\n",
       "        vertical-align: top;\n",
       "    }\n",
       "\n",
       "    .dataframe thead th {\n",
       "        text-align: right;\n",
       "    }\n",
       "</style>\n",
       "<table border=\"1\" class=\"dataframe\">\n",
       "  <thead>\n",
       "    <tr style=\"text-align: right;\">\n",
       "      <th></th>\n",
       "      <th>Date</th>\n",
       "      <th>Open</th>\n",
       "      <th>High</th>\n",
       "      <th>Low</th>\n",
       "      <th>Close</th>\n",
       "      <th>Volume</th>\n",
       "    </tr>\n",
       "  </thead>\n",
       "  <tbody>\n",
       "    <tr>\n",
       "      <th>0</th>\n",
       "      <td>1/3/2012</td>\n",
       "      <td>325.25</td>\n",
       "      <td>332.83</td>\n",
       "      <td>324.97</td>\n",
       "      <td>663.59</td>\n",
       "      <td>7,380,500</td>\n",
       "    </tr>\n",
       "    <tr>\n",
       "      <th>1</th>\n",
       "      <td>1/4/2012</td>\n",
       "      <td>331.27</td>\n",
       "      <td>333.87</td>\n",
       "      <td>329.08</td>\n",
       "      <td>666.45</td>\n",
       "      <td>5,749,400</td>\n",
       "    </tr>\n",
       "    <tr>\n",
       "      <th>2</th>\n",
       "      <td>1/5/2012</td>\n",
       "      <td>329.83</td>\n",
       "      <td>330.75</td>\n",
       "      <td>326.89</td>\n",
       "      <td>657.21</td>\n",
       "      <td>6,590,300</td>\n",
       "    </tr>\n",
       "    <tr>\n",
       "      <th>3</th>\n",
       "      <td>1/6/2012</td>\n",
       "      <td>328.34</td>\n",
       "      <td>328.77</td>\n",
       "      <td>323.68</td>\n",
       "      <td>648.24</td>\n",
       "      <td>5,405,900</td>\n",
       "    </tr>\n",
       "    <tr>\n",
       "      <th>4</th>\n",
       "      <td>1/9/2012</td>\n",
       "      <td>322.04</td>\n",
       "      <td>322.29</td>\n",
       "      <td>309.46</td>\n",
       "      <td>620.76</td>\n",
       "      <td>11,688,800</td>\n",
       "    </tr>\n",
       "  </tbody>\n",
       "</table>\n",
       "</div>"
      ],
      "text/plain": [
       "       Date    Open    High     Low   Close      Volume\n",
       "0  1/3/2012  325.25  332.83  324.97  663.59   7,380,500\n",
       "1  1/4/2012  331.27  333.87  329.08  666.45   5,749,400\n",
       "2  1/5/2012  329.83  330.75  326.89  657.21   6,590,300\n",
       "3  1/6/2012  328.34  328.77  323.68  648.24   5,405,900\n",
       "4  1/9/2012  322.04  322.29  309.46  620.76  11,688,800"
      ]
     },
     "execution_count": 32,
     "metadata": {},
     "output_type": "execute_result"
    }
   ],
   "source": [
    "training_set.head()"
   ]
  },
  {
   "cell_type": "code",
   "execution_count": 33,
   "metadata": {},
   "outputs": [],
   "source": [
    "training_set = training_set.iloc[:,1:2].values"
   ]
  },
  {
   "cell_type": "markdown",
   "metadata": {},
   "source": [
    "---"
   ]
  },
  {
   "cell_type": "markdown",
   "metadata": {},
   "source": [
    "### Feature Scaling"
   ]
  },
  {
   "cell_type": "code",
   "execution_count": 34,
   "metadata": {},
   "outputs": [],
   "source": [
    "from sklearn.preprocessing import MinMaxScaler\n",
    "sc = MinMaxScaler()\n",
    "training_set = sc.fit_transform(training_set)\n"
   ]
  },
  {
   "cell_type": "code",
   "execution_count": 35,
   "metadata": {},
   "outputs": [],
   "source": [
    "X_train = training_set[0:1257]\n",
    "y_train = training_set[1:1258]"
   ]
  },
  {
   "cell_type": "markdown",
   "metadata": {},
   "source": [
    "---\n",
    "\n",
    "### Reshaping"
   ]
  },
  {
   "cell_type": "code",
   "execution_count": 36,
   "metadata": {},
   "outputs": [],
   "source": [
    "X_train = np.reshape(X_train, (1257, 1, 1))"
   ]
  },
  {
   "cell_type": "code",
   "execution_count": 37,
   "metadata": {},
   "outputs": [],
   "source": [
    "from keras.models import Sequential\n",
    "from keras.layers import Dense\n",
    "from keras.layers import LSTM"
   ]
  },
  {
   "cell_type": "markdown",
   "metadata": {},
   "source": [
    "---"
   ]
  },
  {
   "cell_type": "markdown",
   "metadata": {},
   "source": [
    "### Building the RNN"
   ]
  },
  {
   "cell_type": "code",
   "execution_count": 38,
   "metadata": {},
   "outputs": [],
   "source": [
    "regressor = Sequential()\n"
   ]
  },
  {
   "cell_type": "code",
   "execution_count": 39,
   "metadata": {},
   "outputs": [],
   "source": [
    "regressor.add(LSTM(units = 4, activation = 'sigmoid', input_shape = (None, 1)))"
   ]
  },
  {
   "cell_type": "code",
   "execution_count": 40,
   "metadata": {},
   "outputs": [],
   "source": [
    "regressor.add(Dense(units = 1))"
   ]
  },
  {
   "cell_type": "code",
   "execution_count": 41,
   "metadata": {},
   "outputs": [
    {
     "name": "stdout",
     "output_type": "stream",
     "text": [
      "Epoch 1/200\n",
      "1257/1257 [==============================] - 1s 810us/step - loss: 0.0886\n",
      "Epoch 2/200\n",
      "1257/1257 [==============================] - 0s 150us/step - loss: 0.0760\n",
      "Epoch 3/200\n",
      "1257/1257 [==============================] - 0s 122us/step - loss: 0.0719\n",
      "Epoch 4/200\n",
      "1257/1257 [==============================] - 0s 118us/step - loss: 0.0696\n",
      "Epoch 5/200\n",
      "1257/1257 [==============================] - 0s 129us/step - loss: 0.0676\n",
      "Epoch 6/200\n",
      "1257/1257 [==============================] - 0s 127us/step - loss: 0.0658\n",
      "Epoch 7/200\n",
      "1257/1257 [==============================] - 0s 120us/step - loss: 0.0640\n",
      "Epoch 8/200\n",
      "1257/1257 [==============================] - 0s 147us/step - loss: 0.0623\n",
      "Epoch 9/200\n",
      "1257/1257 [==============================] - 0s 125us/step - loss: 0.0605\n",
      "Epoch 10/200\n",
      "1257/1257 [==============================] - 0s 124us/step - loss: 0.0588\n",
      "Epoch 11/200\n",
      "1257/1257 [==============================] - 0s 134us/step - loss: 0.0571\n",
      "Epoch 12/200\n",
      "1257/1257 [==============================] - 0s 123us/step - loss: 0.0553\n",
      "Epoch 13/200\n",
      "1257/1257 [==============================] - 0s 167us/step - loss: 0.0534\n",
      "Epoch 14/200\n",
      "1257/1257 [==============================] - 0s 140us/step - loss: 0.0517\n",
      "Epoch 15/200\n",
      "1257/1257 [==============================] - 0s 125us/step - loss: 0.0499\n",
      "Epoch 16/200\n",
      "1257/1257 [==============================] - 0s 127us/step - loss: 0.0481\n",
      "Epoch 17/200\n",
      "1257/1257 [==============================] - 0s 126us/step - loss: 0.0462\n",
      "Epoch 18/200\n",
      "1257/1257 [==============================] - 0s 136us/step - loss: 0.0444\n",
      "Epoch 19/200\n",
      "1257/1257 [==============================] - 0s 127us/step - loss: 0.0425\n",
      "Epoch 20/200\n",
      "1257/1257 [==============================] - 0s 141us/step - loss: 0.0407\n",
      "Epoch 21/200\n",
      "1257/1257 [==============================] - 0s 127us/step - loss: 0.0388\n",
      "Epoch 22/200\n",
      "1257/1257 [==============================] - 0s 128us/step - loss: 0.0369\n",
      "Epoch 23/200\n",
      "1257/1257 [==============================] - 0s 122us/step - loss: 0.0350\n",
      "Epoch 24/200\n",
      "1257/1257 [==============================] - 0s 130us/step - loss: 0.0331\n",
      "Epoch 25/200\n",
      "1257/1257 [==============================] - 0s 173us/step - loss: 0.0312\n",
      "Epoch 26/200\n",
      "1257/1257 [==============================] - 0s 167us/step - loss: 0.0294\n",
      "Epoch 27/200\n",
      "1257/1257 [==============================] - 0s 150us/step - loss: 0.0276\n",
      "Epoch 28/200\n",
      "1257/1257 [==============================] - 0s 162us/step - loss: 0.0258\n",
      "Epoch 29/200\n",
      "1257/1257 [==============================] - 0s 157us/step - loss: 0.0240\n",
      "Epoch 30/200\n",
      "1257/1257 [==============================] - 0s 143us/step - loss: 0.0223\n",
      "Epoch 31/200\n",
      "1257/1257 [==============================] - 0s 207us/step - loss: 0.0206\n",
      "Epoch 32/200\n",
      "1257/1257 [==============================] - 0s 232us/step - loss: 0.0191\n",
      "Epoch 33/200\n",
      "1257/1257 [==============================] - 0s 170us/step - loss: 0.0175\n",
      "Epoch 34/200\n",
      "1257/1257 [==============================] - 0s 148us/step - loss: 0.0160\n",
      "Epoch 35/200\n",
      "1257/1257 [==============================] - 0s 157us/step - loss: 0.0146\n",
      "Epoch 36/200\n",
      "1257/1257 [==============================] - 0s 165us/step - loss: 0.0132\n",
      "Epoch 37/200\n",
      "1257/1257 [==============================] - 0s 161us/step - loss: 0.0120\n",
      "Epoch 38/200\n",
      "1257/1257 [==============================] - 0s 125us/step - loss: 0.0108\n",
      "Epoch 39/200\n",
      "1257/1257 [==============================] - 0s 164us/step - loss: 0.0097\n",
      "Epoch 40/200\n",
      "1257/1257 [==============================] - 0s 133us/step - loss: 0.0086\n",
      "Epoch 41/200\n",
      "1257/1257 [==============================] - 0s 174us/step - loss: 0.0076\n",
      "Epoch 42/200\n",
      "1257/1257 [==============================] - 0s 152us/step - loss: 0.0068\n",
      "Epoch 43/200\n",
      "1257/1257 [==============================] - 0s 161us/step - loss: 0.0059\n",
      "Epoch 44/200\n",
      "1257/1257 [==============================] - 0s 156us/step - loss: 0.0052\n",
      "Epoch 45/200\n",
      "1257/1257 [==============================] - 0s 144us/step - loss: 0.0045\n",
      "Epoch 46/200\n",
      "1257/1257 [==============================] - 0s 180us/step - loss: 0.0039\n",
      "Epoch 47/200\n",
      "1257/1257 [==============================] - 0s 174us/step - loss: 0.0034\n",
      "Epoch 48/200\n",
      "1257/1257 [==============================] - 0s 253us/step - loss: 0.0029\n",
      "Epoch 49/200\n",
      "1257/1257 [==============================] - 0s 158us/step - loss: 0.0025\n",
      "Epoch 50/200\n",
      "1257/1257 [==============================] - 0s 183us/step - loss: 0.0022\n",
      "Epoch 51/200\n",
      "1257/1257 [==============================] - 0s 157us/step - loss: 0.0019\n",
      "Epoch 52/200\n",
      "1257/1257 [==============================] - 0s 208us/step - loss: 0.0016\n",
      "Epoch 53/200\n",
      "1257/1257 [==============================] - 0s 246us/step - loss: 0.0014\n",
      "Epoch 54/200\n",
      "1257/1257 [==============================] - 0s 162us/step - loss: 0.0012\n",
      "Epoch 55/200\n",
      "1257/1257 [==============================] - 0s 125us/step - loss: 0.0010\n",
      "Epoch 56/200\n",
      "1257/1257 [==============================] - 0s 194us/step - loss: 8.9574e-04\n",
      "Epoch 57/200\n",
      "1257/1257 [==============================] - 0s 233us/step - loss: 7.8580e-04\n",
      "Epoch 58/200\n",
      "1257/1257 [==============================] - 0s 177us/step - loss: 6.9871e-04\n",
      "Epoch 59/200\n",
      "1257/1257 [==============================] - 0s 149us/step - loss: 6.2685e-04\n",
      "Epoch 60/200\n",
      "1257/1257 [==============================] - 0s 200us/step - loss: 5.6914e-04\n",
      "Epoch 61/200\n",
      "1257/1257 [==============================] - 0s 161us/step - loss: 5.2132e-04\n",
      "Epoch 62/200\n",
      "1257/1257 [==============================] - 0s 123us/step - loss: 4.8776e-04\n",
      "Epoch 63/200\n",
      "1257/1257 [==============================] - 0s 168us/step - loss: 4.6001e-04\n",
      "Epoch 64/200\n",
      "1257/1257 [==============================] - 0s 132us/step - loss: 4.3657e-04\n",
      "Epoch 65/200\n",
      "1257/1257 [==============================] - 0s 127us/step - loss: 4.2049e-04\n",
      "Epoch 66/200\n",
      "1257/1257 [==============================] - 0s 134us/step - loss: 4.0467e-04\n",
      "Epoch 67/200\n",
      "1257/1257 [==============================] - 0s 124us/step - loss: 3.9514e-04\n",
      "Epoch 68/200\n",
      "1257/1257 [==============================] - 0s 125us/step - loss: 3.8723e-04\n",
      "Epoch 69/200\n",
      "1257/1257 [==============================] - 0s 166us/step - loss: 3.8097e-04\n",
      "Epoch 70/200\n",
      "1257/1257 [==============================] - 0s 136us/step - loss: 3.7565e-04\n",
      "Epoch 71/200\n",
      "1257/1257 [==============================] - 0s 145us/step - loss: 3.7305e-04\n",
      "Epoch 72/200\n",
      "1257/1257 [==============================] - 0s 145us/step - loss: 3.7032e-04\n",
      "Epoch 73/200\n",
      "1257/1257 [==============================] - 0s 188us/step - loss: 3.6632e-04\n",
      "Epoch 74/200\n",
      "1257/1257 [==============================] - 0s 187us/step - loss: 3.6577e-04\n",
      "Epoch 75/200\n",
      "1257/1257 [==============================] - 0s 140us/step - loss: 3.6326e-04\n",
      "Epoch 76/200\n",
      "1257/1257 [==============================] - 0s 138us/step - loss: 3.6144e-04\n",
      "Epoch 77/200\n",
      "1257/1257 [==============================] - 0s 146us/step - loss: 3.6087e-04\n",
      "Epoch 78/200\n",
      "1257/1257 [==============================] - 0s 128us/step - loss: 3.5988e-04\n",
      "Epoch 79/200\n",
      "1257/1257 [==============================] - 0s 164us/step - loss: 3.5743e-04\n",
      "Epoch 80/200\n",
      "1257/1257 [==============================] - 0s 151us/step - loss: 3.5570e-04\n",
      "Epoch 81/200\n",
      "1257/1257 [==============================] - 0s 143us/step - loss: 3.5396e-04\n",
      "Epoch 82/200\n",
      "1257/1257 [==============================] - 0s 149us/step - loss: 3.5255e-04\n",
      "Epoch 83/200\n",
      "1257/1257 [==============================] - 0s 140us/step - loss: 3.5170e-04\n",
      "Epoch 84/200\n",
      "1257/1257 [==============================] - 0s 157us/step - loss: 3.5188e-04\n",
      "Epoch 85/200\n",
      "1257/1257 [==============================] - 0s 145us/step - loss: 3.4887e-04\n",
      "Epoch 86/200\n",
      "1257/1257 [==============================] - 0s 141us/step - loss: 3.4751e-04\n",
      "Epoch 87/200\n",
      "1257/1257 [==============================] - 0s 148us/step - loss: 3.5003e-04\n",
      "Epoch 88/200\n",
      "1257/1257 [==============================] - 0s 133us/step - loss: 3.4491e-04\n",
      "Epoch 89/200\n",
      "1257/1257 [==============================] - 0s 156us/step - loss: 3.4215e-04\n",
      "Epoch 90/200\n",
      "1257/1257 [==============================] - 0s 151us/step - loss: 3.4031e-04\n",
      "Epoch 91/200\n",
      "1257/1257 [==============================] - 0s 133us/step - loss: 3.3762e-04\n",
      "Epoch 92/200\n",
      "1257/1257 [==============================] - 0s 155us/step - loss: 3.3805e-04\n",
      "Epoch 93/200\n"
     ]
    },
    {
     "name": "stdout",
     "output_type": "stream",
     "text": [
      "1257/1257 [==============================] - 0s 125us/step - loss: 3.3480e-04\n",
      "Epoch 94/200\n",
      "1257/1257 [==============================] - 0s 120us/step - loss: 3.3311e-04\n",
      "Epoch 95/200\n",
      "1257/1257 [==============================] - 0s 82us/step - loss: 3.3244e-04\n",
      "Epoch 96/200\n",
      "1257/1257 [==============================] - 0s 95us/step - loss: 3.2980e-04\n",
      "Epoch 97/200\n",
      "1257/1257 [==============================] - 0s 105us/step - loss: 3.3083e-04\n",
      "Epoch 98/200\n",
      "1257/1257 [==============================] - 0s 118us/step - loss: 3.2683e-04\n",
      "Epoch 99/200\n",
      "1257/1257 [==============================] - 0s 114us/step - loss: 3.2670e-04\n",
      "Epoch 100/200\n",
      "1257/1257 [==============================] - 0s 118us/step - loss: 3.2291e-04\n",
      "Epoch 101/200\n",
      "1257/1257 [==============================] - 0s 126us/step - loss: 3.2081e-04\n",
      "Epoch 102/200\n",
      "1257/1257 [==============================] - 0s 141us/step - loss: 3.1969e-04\n",
      "Epoch 103/200\n",
      "1257/1257 [==============================] - 0s 119us/step - loss: 3.1691e-04\n",
      "Epoch 104/200\n",
      "1257/1257 [==============================] - 0s 122us/step - loss: 3.1299e-04\n",
      "Epoch 105/200\n",
      "1257/1257 [==============================] - 0s 116us/step - loss: 3.1335e-04\n",
      "Epoch 106/200\n",
      "1257/1257 [==============================] - 0s 114us/step - loss: 3.0972e-04\n",
      "Epoch 107/200\n",
      "1257/1257 [==============================] - 0s 109us/step - loss: 3.0796e-04\n",
      "Epoch 108/200\n",
      "1257/1257 [==============================] - 0s 119us/step - loss: 3.0571e-04\n",
      "Epoch 109/200\n",
      "1257/1257 [==============================] - 0s 121us/step - loss: 3.0561e-04\n",
      "Epoch 110/200\n",
      "1257/1257 [==============================] - 0s 133us/step - loss: 3.0379e-04\n",
      "Epoch 111/200\n",
      "1257/1257 [==============================] - 0s 113us/step - loss: 2.9947e-04\n",
      "Epoch 112/200\n",
      "1257/1257 [==============================] - 0s 127us/step - loss: 2.9859e-04\n",
      "Epoch 113/200\n",
      "1257/1257 [==============================] - 0s 119us/step - loss: 2.9559e-04\n",
      "Epoch 114/200\n",
      "1257/1257 [==============================] - 0s 121us/step - loss: 2.9355e-04\n",
      "Epoch 115/200\n",
      "1257/1257 [==============================] - 0s 120us/step - loss: 2.9047e-04\n",
      "Epoch 116/200\n",
      "1257/1257 [==============================] - 0s 136us/step - loss: 2.8836e-04\n",
      "Epoch 117/200\n",
      "1257/1257 [==============================] - 0s 119us/step - loss: 2.8892e-04\n",
      "Epoch 118/200\n",
      "1257/1257 [==============================] - 0s 122us/step - loss: 2.8502e-04\n",
      "Epoch 119/200\n",
      "1257/1257 [==============================] - 0s 117us/step - loss: 2.8315e-04\n",
      "Epoch 120/200\n",
      "1257/1257 [==============================] - 0s 118us/step - loss: 2.8264e-04\n",
      "Epoch 121/200\n",
      "1257/1257 [==============================] - 0s 116us/step - loss: 2.9429e-04\n",
      "Epoch 122/200\n",
      "1257/1257 [==============================] - 0s 111us/step - loss: 2.8034e-04\n",
      "Epoch 123/200\n",
      "1257/1257 [==============================] - 0s 116us/step - loss: 2.8052e-04\n",
      "Epoch 124/200\n",
      "1257/1257 [==============================] - 0s 120us/step - loss: 2.7794e-04\n",
      "Epoch 125/200\n",
      "1257/1257 [==============================] - 0s 113us/step - loss: 2.8126e-04\n",
      "Epoch 126/200\n",
      "1257/1257 [==============================] - 0s 119us/step - loss: 2.7706e-04\n",
      "Epoch 127/200\n",
      "1257/1257 [==============================] - 0s 113us/step - loss: 2.7331e-04\n",
      "Epoch 128/200\n",
      "1257/1257 [==============================] - 0s 148us/step - loss: 2.7403e-04\n",
      "Epoch 129/200\n",
      "1257/1257 [==============================] - 0s 119us/step - loss: 2.7126e-04\n",
      "Epoch 130/200\n",
      "1257/1257 [==============================] - 0s 125us/step - loss: 2.6937e-04\n",
      "Epoch 131/200\n",
      "1257/1257 [==============================] - 0s 131us/step - loss: 2.7270e-04\n",
      "Epoch 132/200\n",
      "1257/1257 [==============================] - 0s 127us/step - loss: 2.6931e-04\n",
      "Epoch 133/200\n",
      "1257/1257 [==============================] - 0s 122us/step - loss: 2.7203e-04\n",
      "Epoch 134/200\n",
      "1257/1257 [==============================] - 0s 119us/step - loss: 2.6827e-04\n",
      "Epoch 135/200\n",
      "1257/1257 [==============================] - 0s 128us/step - loss: 2.6915e-04\n",
      "Epoch 136/200\n",
      "1257/1257 [==============================] - 0s 141us/step - loss: 2.6728e-04\n",
      "Epoch 137/200\n",
      "1257/1257 [==============================] - 0s 126us/step - loss: 2.6826e-04\n",
      "Epoch 138/200\n",
      "1257/1257 [==============================] - 0s 110us/step - loss: 2.7024e-04\n",
      "Epoch 139/200\n",
      "1257/1257 [==============================] - 0s 116us/step - loss: 2.6358e-04\n",
      "Epoch 140/200\n",
      "1257/1257 [==============================] - 0s 110us/step - loss: 2.6546e-04\n",
      "Epoch 141/200\n",
      "1257/1257 [==============================] - 0s 127us/step - loss: 2.6556e-04\n",
      "Epoch 142/200\n",
      "1257/1257 [==============================] - 0s 130us/step - loss: 2.6466e-04\n",
      "Epoch 143/200\n",
      "1257/1257 [==============================] - 0s 124us/step - loss: 2.6961e-04\n",
      "Epoch 144/200\n",
      "1257/1257 [==============================] - 0s 119us/step - loss: 2.6350e-04\n",
      "Epoch 145/200\n",
      "1257/1257 [==============================] - 0s 119us/step - loss: 2.6087e-04\n",
      "Epoch 146/200\n",
      "1257/1257 [==============================] - 0s 122us/step - loss: 2.6058e-04\n",
      "Epoch 147/200\n",
      "1257/1257 [==============================] - 0s 163us/step - loss: 2.6274e-04\n",
      "Epoch 148/200\n",
      "1257/1257 [==============================] - 0s 133us/step - loss: 2.6725e-04\n",
      "Epoch 149/200\n",
      "1257/1257 [==============================] - 0s 122us/step - loss: 2.5901e-04\n",
      "Epoch 150/200\n",
      "1257/1257 [==============================] - 0s 132us/step - loss: 2.5947e-04\n",
      "Epoch 151/200\n",
      "1257/1257 [==============================] - 0s 113us/step - loss: 2.5721e-04\n",
      "Epoch 152/200\n",
      "1257/1257 [==============================] - 0s 128us/step - loss: 2.5985e-04\n",
      "Epoch 153/200\n",
      "1257/1257 [==============================] - 0s 121us/step - loss: 2.5915e-04\n",
      "Epoch 154/200\n",
      "1257/1257 [==============================] - 0s 128us/step - loss: 2.5948e-04\n",
      "Epoch 155/200\n",
      "1257/1257 [==============================] - 0s 127us/step - loss: 2.6127e-04\n",
      "Epoch 156/200\n",
      "1257/1257 [==============================] - 0s 133us/step - loss: 2.5734e-04\n",
      "Epoch 157/200\n",
      "1257/1257 [==============================] - 0s 112us/step - loss: 2.6116e-04\n",
      "Epoch 158/200\n",
      "1257/1257 [==============================] - 0s 129us/step - loss: 2.6055e-04\n",
      "Epoch 159/200\n",
      "1257/1257 [==============================] - 0s 123us/step - loss: 2.6172e-04\n",
      "Epoch 160/200\n",
      "1257/1257 [==============================] - 0s 135us/step - loss: 2.5719e-04\n",
      "Epoch 161/200\n",
      "1257/1257 [==============================] - 0s 123us/step - loss: 2.5621e-04\n",
      "Epoch 162/200\n",
      "1257/1257 [==============================] - 0s 136us/step - loss: 2.5682e-04\n",
      "Epoch 163/200\n",
      "1257/1257 [==============================] - 0s 121us/step - loss: 2.5664e-04\n",
      "Epoch 164/200\n",
      "1257/1257 [==============================] - 0s 129us/step - loss: 2.5637e-04\n",
      "Epoch 165/200\n",
      "1257/1257 [==============================] - 0s 123us/step - loss: 2.5913e-04\n",
      "Epoch 166/200\n",
      "1257/1257 [==============================] - 0s 123us/step - loss: 2.5730e-04\n",
      "Epoch 167/200\n",
      "1257/1257 [==============================] - 0s 150us/step - loss: 2.5619e-04\n",
      "Epoch 168/200\n",
      "1257/1257 [==============================] - 0s 126us/step - loss: 2.5568e-04\n",
      "Epoch 169/200\n",
      "1257/1257 [==============================] - 0s 124us/step - loss: 2.5288e-04\n",
      "Epoch 170/200\n",
      "1257/1257 [==============================] - 0s 125us/step - loss: 2.5525e-04\n",
      "Epoch 171/200\n",
      "1257/1257 [==============================] - 0s 131us/step - loss: 2.5393e-04\n",
      "Epoch 172/200\n",
      "1257/1257 [==============================] - 0s 122us/step - loss: 2.5547e-04\n",
      "Epoch 173/200\n",
      "1257/1257 [==============================] - 0s 149us/step - loss: 2.5399e-04\n",
      "Epoch 174/200\n",
      "1257/1257 [==============================] - 0s 139us/step - loss: 2.5391e-04\n",
      "Epoch 175/200\n",
      "1257/1257 [==============================] - 0s 118us/step - loss: 2.5429e-04\n",
      "Epoch 176/200\n",
      "1257/1257 [==============================] - 0s 139us/step - loss: 2.5534e-04\n",
      "Epoch 177/200\n",
      "1257/1257 [==============================] - 0s 123us/step - loss: 2.5255e-04\n",
      "Epoch 178/200\n",
      "1257/1257 [==============================] - 0s 141us/step - loss: 2.5421e-04\n",
      "Epoch 179/200\n",
      "1257/1257 [==============================] - 0s 121us/step - loss: 2.6140e-04\n",
      "Epoch 180/200\n",
      "1257/1257 [==============================] - 0s 137us/step - loss: 2.5050e-04\n",
      "Epoch 181/200\n",
      "1257/1257 [==============================] - 0s 125us/step - loss: 2.5652e-04\n",
      "Epoch 182/200\n"
     ]
    },
    {
     "name": "stdout",
     "output_type": "stream",
     "text": [
      "1257/1257 [==============================] - 0s 123us/step - loss: 2.5288e-04\n",
      "Epoch 183/200\n",
      "1257/1257 [==============================] - 0s 113us/step - loss: 2.5338e-04\n",
      "Epoch 184/200\n",
      "1257/1257 [==============================] - 0s 117us/step - loss: 2.5301e-04\n",
      "Epoch 185/200\n",
      "1257/1257 [==============================] - 0s 129us/step - loss: 2.5750e-04\n",
      "Epoch 186/200\n",
      "1257/1257 [==============================] - 0s 127us/step - loss: 2.5564e-04\n",
      "Epoch 187/200\n",
      "1257/1257 [==============================] - 0s 114us/step - loss: 2.5183e-04\n",
      "Epoch 188/200\n",
      "1257/1257 [==============================] - 0s 113us/step - loss: 2.5598e-04\n",
      "Epoch 189/200\n",
      "1257/1257 [==============================] - 0s 107us/step - loss: 2.5305e-04\n",
      "Epoch 190/200\n",
      "1257/1257 [==============================] - 0s 122us/step - loss: 2.5503e-04\n",
      "Epoch 191/200\n",
      "1257/1257 [==============================] - 0s 123us/step - loss: 2.5394e-04\n",
      "Epoch 192/200\n",
      "1257/1257 [==============================] - 0s 130us/step - loss: 2.5337e-04\n",
      "Epoch 193/200\n",
      "1257/1257 [==============================] - 0s 126us/step - loss: 2.5095e-04\n",
      "Epoch 194/200\n",
      "1257/1257 [==============================] - 0s 121us/step - loss: 2.5461e-04\n",
      "Epoch 195/200\n",
      "1257/1257 [==============================] - 0s 110us/step - loss: 2.4962e-04\n",
      "Epoch 196/200\n",
      "1257/1257 [==============================] - 0s 117us/step - loss: 2.5023e-04\n",
      "Epoch 197/200\n",
      "1257/1257 [==============================] - 0s 118us/step - loss: 2.5032e-04\n",
      "Epoch 198/200\n",
      "1257/1257 [==============================] - 0s 121us/step - loss: 2.5745e-04\n",
      "Epoch 199/200\n",
      "1257/1257 [==============================] - 0s 126us/step - loss: 2.6368e-04\n",
      "Epoch 200/200\n",
      "1257/1257 [==============================] - 0s 118us/step - loss: 2.6437e-04\n"
     ]
    },
    {
     "data": {
      "text/plain": [
       "<keras.callbacks.History at 0x7f593c7b1b38>"
      ]
     },
     "execution_count": 41,
     "metadata": {},
     "output_type": "execute_result"
    }
   ],
   "source": [
    "# Compiling the RNN\n",
    "# Compiling all the layers together.\n",
    "# Loss helps in manipulation of weights in NN. \n",
    "regressor.compile(optimizer = 'adam', loss = 'mean_squared_error')\n",
    "\n",
    "# Fitting the RNN to the Training set\n",
    "# Number of epochs increased for better convergence.\n",
    "regressor.fit(X_train, y_train, batch_size = 32, epochs = 200)"
   ]
  },
  {
   "cell_type": "markdown",
   "metadata": {},
   "source": [
    "---"
   ]
  },
  {
   "cell_type": "markdown",
   "metadata": {},
   "source": [
    "# Part 3 - Making predictions and Visualizations"
   ]
  },
  {
   "cell_type": "code",
   "execution_count": 42,
   "metadata": {},
   "outputs": [],
   "source": [
    "test_set = pd.read_csv('Google_Stock_Price_Test.csv')\n",
    "real_stock_price = test_set.iloc[:,1:2].values\n",
    "\n",
    "# Getting the predicted stock price of 2017\n",
    "inputs = real_stock_price\n",
    "inputs = sc.transform(inputs)\n",
    "inputs = np.reshape(inputs, (20, 1, 1))\n",
    "predicted_stock_price = regressor.predict(inputs)\n",
    "predicted_stock_price = sc.inverse_transform(predicted_stock_price)"
   ]
  },
  {
   "cell_type": "code",
   "execution_count": 43,
   "metadata": {},
   "outputs": [
    {
     "data": {
      "image/png": "[encoded data removed]",
      "text/plain": [
       "<Figure size 432x288 with 1 Axes>"
      ]
     },
     "metadata": {
      "needs_background": "light"
     },
     "output_type": "display_data"
    }
   ],
   "source": [
    "# Visualising the results\n",
    "plt.plot(real_stock_price, color = 'red', label = 'Real Google Stock Price')\n",
    "plt.plot(predicted_stock_price, color = 'blue', label = 'Predicted Google Stock Price')\n",
    "plt.title('Google Stock Price Prediction')\n",
    "plt.xlabel('Time')\n",
    "plt.ylabel('Google Stock Price')\n",
    "plt.legend()\n",
    "plt.show()"
   ]
  },
  {
   "cell_type": "code",
   "execution_count": 44,
   "metadata": {},
   "outputs": [],
   "source": [
    "# Making predictions for the entire dataset\n",
    "# Getting the real stock price of 2012 - 2016\n",
    "real_stock_price_train = pd.read_csv('Google_Stock_Price_Train.csv')\n",
    "real_stock_price_train = real_stock_price_train.iloc[:,1:2].values\n",
    "\n",
    "# Getting the predicted stock price of 2012 - 2016\n",
    "predicted_stock_price_train = regressor.predict(X_train)\n",
    "predicted_stock_price_train = sc.inverse_transform(predicted_stock_price_train)"
   ]
  },
  {
   "cell_type": "code",
   "execution_count": 45,
   "metadata": {},
   "outputs": [
    {
     "data": {
      "image/png": "[encoded data removed]",
      "text/plain": [
       "<Figure size 432x288 with 1 Axes>"
      ]
     },
     "metadata": {
      "needs_background": "light"
     },
     "output_type": "display_data"
    }
   ],
   "source": [
    "# Visualising the results\n",
    "plt.plot(real_stock_price_train, color = 'red', label = 'Real Google Stock Price')\n",
    "plt.plot(predicted_stock_price_train, color = 'blue', label = 'Predicted Google Stock Price')\n",
    "plt.title('Google Stock Price Prediction')\n",
    "plt.xlabel('Time')\n",
    "plt.ylabel('Google Stock Price')\n",
    "plt.legend()\n",
    "plt.show()"
   ]
  },
  {
   "cell_type": "markdown",
   "metadata": {},
   "source": [
    "---"
   ]
  },
  {
   "cell_type": "markdown",
   "metadata": {},
   "source": [
    "# Part 4 - Evaluating RNN"
   ]
  },
  {
   "cell_type": "code",
   "execution_count": 46,
   "metadata": {},
   "outputs": [],
   "source": [
    "import math\n",
    "from sklearn.metrics import mean_squared_error\n",
    "rmse = math.sqrt(mean_squared_error(real_stock_price, predicted_stock_price))"
   ]
  },
  {
   "cell_type": "code",
   "execution_count": 47,
   "metadata": {},
   "outputs": [
    {
     "name": "stdout",
     "output_type": "stream",
     "text": [
      "0.4736709465582201\n"
     ]
    }
   ],
   "source": [
    "print(rmse)"
   ]
  },
  {
   "cell_type": "code",
   "execution_count": null,
   "metadata": {},
   "outputs": [],
   "source": []
  }
 ],
 "metadata": {
  "kernelspec": {
   "display_name": "Python 3",
   "language": "python",
   "name": "python3"
  },
  "language_info": {
   "codemirror_mode": {
    "name": "ipython",
    "version": 3
   },
   "file_extension": ".py",
   "mimetype": "text/x-python",
   "name": "python",
   "nbconvert_exporter": "python",
   "pygments_lexer": "ipython3",
   "version": "3.5.2"
  }
 },
 "nbformat": 4,
 "nbformat_minor": 2
}
